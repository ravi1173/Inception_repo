{
 "cells": [
  {
   "cell_type": "markdown",
   "metadata": {},
   "source": [
    "<h1 style=\" text-align:center; color:Blue; font-size:40px;\"> <u><b>Cat Breeds prediction with InceptionV3</b></u> </h1>"
   ]
  },
  {
   "cell_type": "markdown",
   "metadata": {},
   "source": [
    "## 1. Importing Libraries\n"
   ]
  },
  {
   "cell_type": "code",
   "execution_count": 1,
   "metadata": {
    "execution": {
     "iopub.execute_input": "2021-07-13T20:03:31.985640Z",
     "iopub.status.busy": "2021-07-13T20:03:31.985247Z",
     "iopub.status.idle": "2021-07-13T20:03:31.992311Z",
     "shell.execute_reply": "2021-07-13T20:03:31.991324Z",
     "shell.execute_reply.started": "2021-07-13T20:03:31.985601Z"
    }
   },
   "outputs": [],
   "source": [
    "import numpy as np # linear algebra\n",
    "import pandas as pd # data processing, CSV file I/O (e.g. pd.read_csv)\n",
    "import os\n",
    "from pathlib import Path\n",
    "import matplotlib.pyplot as plt\n",
    "from scipy import ndimage, misc\n",
    "\n",
    "from sklearn.model_selection import train_test_split \n",
    "from sklearn.metrics import confusion_matrix, classification_report\n",
    "from sklearn.metrics import confusion_matrix\n",
    "from sklearn.metrics import roc_auc_score\n",
    "\n",
    "import tensorflow as tf\n",
    "from tensorflow.keras.preprocessing.image import ImageDataGenerator\n",
    "from keras.optimizers import Adam, SGD, RMSprop\n",
    "from keras.applications.inception_v3 import InceptionV3, preprocess_input\n"
   ]
  },
  {
   "cell_type": "markdown",
   "metadata": {},
   "source": [
    "## 2. Extrating Files"
   ]
  },
  {
   "cell_type": "code",
   "execution_count": null,
   "metadata": {
    "execution": {
     "iopub.execute_input": "2021-07-13T18:37:25.469184Z",
     "iopub.status.busy": "2021-07-13T18:37:25.468801Z",
     "iopub.status.idle": "2021-07-13T18:40:54.287597Z",
     "shell.execute_reply": "2021-07-13T18:40:54.286769Z",
     "shell.execute_reply.started": "2021-07-13T18:37:25.46915Z"
    }
   },
   "outputs": [],
   "source": [
    "'''\n",
    "    Must contain folder of cat images in \"images\" folder \n",
    "'''\n",
    "\n",
    "filelist  = []\n",
    "\n",
    "for dirname, _, filenames in os.walk('images'):\n",
    "    for filename in filenames:\n",
    "        filelist.append (os.path.join(dirname, filename))"
   ]
  },
  {
   "cell_type": "code",
   "execution_count": null,
   "metadata": {
    "execution": {
     "iopub.execute_input": "2021-07-13T18:40:54.290495Z",
     "iopub.status.busy": "2021-07-13T18:40:54.290147Z",
     "iopub.status.idle": "2021-07-13T18:40:54.300575Z",
     "shell.execute_reply": "2021-07-13T18:40:54.299711Z",
     "shell.execute_reply.started": "2021-07-13T18:40:54.290458Z"
    }
   },
   "outputs": [],
   "source": [
    "len(filelist)"
   ]
  },
  {
   "cell_type": "code",
   "execution_count": null,
   "metadata": {
    "_kg_hide-output": true,
    "execution": {
     "iopub.execute_input": "2021-07-13T18:41:41.075792Z",
     "iopub.status.busy": "2021-07-13T18:41:41.075452Z",
     "iopub.status.idle": "2021-07-13T18:41:41.079165Z",
     "shell.execute_reply": "2021-07-13T18:41:41.078295Z",
     "shell.execute_reply.started": "2021-07-13T18:41:41.075759Z"
    }
   },
   "outputs": [],
   "source": [
    "filelist"
   ]
  },
  {
   "cell_type": "markdown",
   "metadata": {},
   "source": [
    "### Taking only those 10 labels given in the assignment."
   ]
  },
  {
   "cell_type": "code",
   "execution_count": null,
   "metadata": {
    "execution": {
     "iopub.execute_input": "2021-07-13T18:41:49.78802Z",
     "iopub.status.busy": "2021-07-13T18:41:49.787645Z",
     "iopub.status.idle": "2021-07-13T18:41:49.791664Z",
     "shell.execute_reply": "2021-07-13T18:41:49.790837Z",
     "shell.execute_reply.started": "2021-07-13T18:41:49.787987Z"
    }
   },
   "outputs": [],
   "source": [
    "labels_needed = ['Bombay', 'Calico', 'Burmese', 'Himalayan', \n",
    "                 'Munchkin', 'Ragdoll', 'Siberian', 'British Shorthair', 'Russian Blue', \n",
    "                 'Dilute Calico']"
   ]
  },
  {
   "cell_type": "code",
   "execution_count": null,
   "metadata": {
    "execution": {
     "iopub.execute_input": "2021-07-13T18:41:53.709274Z",
     "iopub.status.busy": "2021-07-13T18:41:53.708955Z",
     "iopub.status.idle": "2021-07-13T18:41:53.801498Z",
     "shell.execute_reply": "2021-07-13T18:41:53.800616Z",
     "shell.execute_reply.started": "2021-07-13T18:41:53.709244Z"
    }
   },
   "outputs": [],
   "source": [
    "Filepaths   = []\n",
    "labels = []\n",
    "\n",
    "for image_file in filelist:\n",
    "    label = image_file.split(os.path.sep)[-2]\n",
    "    if label in labels_needed:\n",
    "\n",
    "        Filepaths.append(image_file)\n",
    "        labels.append(label)"
   ]
  },
  {
   "cell_type": "code",
   "execution_count": null,
   "metadata": {
    "execution": {
     "iopub.execute_input": "2021-07-13T18:41:58.541751Z",
     "iopub.status.busy": "2021-07-13T18:41:58.541388Z",
     "iopub.status.idle": "2021-07-13T18:41:58.547395Z",
     "shell.execute_reply": "2021-07-13T18:41:58.546621Z",
     "shell.execute_reply.started": "2021-07-13T18:41:58.541689Z"
    }
   },
   "outputs": [],
   "source": [
    "set(labels)"
   ]
  },
  {
   "cell_type": "code",
   "execution_count": null,
   "metadata": {
    "execution": {
     "iopub.execute_input": "2021-07-13T18:42:02.659918Z",
     "iopub.status.busy": "2021-07-13T18:42:02.659549Z",
     "iopub.status.idle": "2021-07-13T18:42:02.66669Z",
     "shell.execute_reply": "2021-07-13T18:42:02.665632Z",
     "shell.execute_reply.started": "2021-07-13T18:42:02.659886Z"
    }
   },
   "outputs": [],
   "source": [
    "len(Filepaths), len(labels)"
   ]
  },
  {
   "cell_type": "markdown",
   "metadata": {},
   "source": [
    "### Creating a dataframe with file paths and the labels for them"
   ]
  },
  {
   "cell_type": "code",
   "execution_count": null,
   "metadata": {
    "execution": {
     "iopub.execute_input": "2021-07-13T18:42:07.197964Z",
     "iopub.status.busy": "2021-07-13T18:42:07.197591Z",
     "iopub.status.idle": "2021-07-13T18:42:07.23587Z",
     "shell.execute_reply": "2021-07-13T18:42:07.235108Z",
     "shell.execute_reply.started": "2021-07-13T18:42:07.197931Z"
    }
   },
   "outputs": [],
   "source": [
    "df = pd.DataFrame( list( zip (Filepaths, labels) ), columns = ['Filepath', 'Labels'] )\n",
    "df"
   ]
  },
  {
   "cell_type": "code",
   "execution_count": null,
   "metadata": {
    "execution": {
     "iopub.execute_input": "2021-07-13T18:42:12.54127Z",
     "iopub.status.busy": "2021-07-13T18:42:12.540942Z",
     "iopub.status.idle": "2021-07-13T18:42:12.56148Z",
     "shell.execute_reply": "2021-07-13T18:42:12.560476Z",
     "shell.execute_reply.started": "2021-07-13T18:42:12.54124Z"
    }
   },
   "outputs": [],
   "source": [
    "df = (df.sample(frac = 1).reset_index()).drop(columns = 'index')\n",
    "df"
   ]
  },
  {
   "cell_type": "markdown",
   "metadata": {},
   "source": [
    "### Displaying first 9 pictures"
   ]
  },
  {
   "cell_type": "code",
   "execution_count": null,
   "metadata": {
    "execution": {
     "iopub.execute_input": "2021-07-13T18:42:19.830333Z",
     "iopub.status.busy": "2021-07-13T18:42:19.829991Z",
     "iopub.status.idle": "2021-07-13T18:42:20.832185Z",
     "shell.execute_reply": "2021-07-13T18:42:20.826134Z",
     "shell.execute_reply.started": "2021-07-13T18:42:19.830303Z"
    }
   },
   "outputs": [],
   "source": [
    "f,a = plt.subplots(nrows=3, ncols=3,figsize=(13, 7),\n",
    "                        subplot_kw={'xticks': [], 'yticks': []})\n",
    "\n",
    "for i, ax in enumerate(a.flat):\n",
    "    ax.imshow(plt.imread(df.Filepath[i]))\n",
    "    ax.set_title(df.Labels[i])\n",
    "    \n",
    "plt.tight_layout()\n",
    "plt.show()"
   ]
  },
  {
   "cell_type": "code",
   "execution_count": null,
   "metadata": {
    "execution": {
     "iopub.execute_input": "2021-07-13T18:42:26.616437Z",
     "iopub.status.busy": "2021-07-13T18:42:26.616065Z",
     "iopub.status.idle": "2021-07-13T18:42:26.998395Z",
     "shell.execute_reply": "2021-07-13T18:42:26.997605Z",
     "shell.execute_reply.started": "2021-07-13T18:42:26.616406Z"
    }
   },
   "outputs": [],
   "source": [
    "ax=pd.value_counts(df['Labels'],ascending=True).plot(kind='barh',\n",
    "                                                       fontsize=\"40\",\n",
    "                                                       title=\"Distribution Of classes\",\n",
    "                                                       figsize=(15,8))\n",
    "ax.set(xlabel=\"Images per class\", ylabel=\"Classes\")\n",
    "ax.xaxis.label.set_size(40)\n",
    "ax.yaxis.label.set_size(40)\n",
    "ax.title.set_size(60)\n",
    "plt.show()"
   ]
  },
  {
   "cell_type": "markdown",
   "metadata": {},
   "source": [
    "### Checking for class imbalance"
   ]
  },
  {
   "cell_type": "code",
   "execution_count": null,
   "metadata": {
    "execution": {
     "iopub.execute_input": "2021-07-13T18:42:36.029885Z",
     "iopub.status.busy": "2021-07-13T18:42:36.029537Z",
     "iopub.status.idle": "2021-07-13T18:42:36.044286Z",
     "shell.execute_reply": "2021-07-13T18:42:36.043377Z",
     "shell.execute_reply.started": "2021-07-13T18:42:36.029853Z"
    }
   },
   "outputs": [],
   "source": [
    "df.Labels.value_counts()"
   ]
  },
  {
   "cell_type": "markdown",
   "metadata": {},
   "source": [
    "## 3. Splitting Data"
   ]
  },
  {
   "cell_type": "code",
   "execution_count": 70,
   "metadata": {
    "execution": {
     "iopub.execute_input": "2021-07-13T19:59:37.199757Z",
     "iopub.status.busy": "2021-07-13T19:59:37.199423Z",
     "iopub.status.idle": "2021-07-13T19:59:37.210246Z",
     "shell.execute_reply": "2021-07-13T19:59:37.209440Z",
     "shell.execute_reply.started": "2021-07-13T19:59:37.199706Z"
    }
   },
   "outputs": [],
   "source": [
    "train_ratio = .75\n",
    "validation_ratio = 0.10\n",
    "test_ratio = 0.25\n",
    "\n",
    "train, test = train_test_split(df, test_size = test_ratio )\n",
    "val, test = train_test_split(test, test_size=test_ratio/(test_ratio + validation_ratio))"
   ]
  },
  {
   "cell_type": "markdown",
   "metadata": {},
   "source": [
    "## 4. Pre- processing"
   ]
  },
  {
   "cell_type": "code",
   "execution_count": 71,
   "metadata": {
    "execution": {
     "iopub.execute_input": "2021-07-13T19:59:42.139563Z",
     "iopub.status.busy": "2021-07-13T19:59:42.139255Z",
     "iopub.status.idle": "2021-07-13T19:59:47.418405Z",
     "shell.execute_reply": "2021-07-13T19:59:47.417462Z",
     "shell.execute_reply.started": "2021-07-13T19:59:42.139534Z"
    }
   },
   "outputs": [
    {
     "name": "stdout",
     "output_type": "stream",
     "text": [
      "Found 11740 validated image filenames belonging to 10 classes.\n",
      "Found 1118 validated image filenames belonging to 10 classes.\n",
      "Found 2796 validated image filenames belonging to 10 classes.\n"
     ]
    }
   ],
   "source": [
    "img_datagen = ImageDataGenerator(rescale=1./255, \n",
    "                                   rotation_range=30, \n",
    "                                   width_shift_range=0.2,\n",
    "                                   height_shift_range=0.2, \n",
    "                                   horizontal_flip = 'true')\n",
    "   \n",
    "\n",
    "x_train =  img_datagen.flow_from_dataframe(dataframe = train,  x_col='Filepath', y_col='Labels',  target_size=(299, 299), shuffle=False, batch_size=10, seed=10)\n",
    "x_val = img_datagen.flow_from_dataframe(dataframe = val,  x_col='Filepath', y_col='Labels',  target_size=(299, 299), shuffle=False, batch_size=10, seed=10)\n",
    "x_test = img_datagen.flow_from_dataframe(dataframe = test,  x_col='Filepath', y_col='Labels',  target_size=(299, 299), shuffle=False, batch_size=10, seed=10)"
   ]
  },
  {
   "cell_type": "markdown",
   "metadata": {},
   "source": [
    "## 5. Modelling the architecture"
   ]
  },
  {
   "cell_type": "code",
   "execution_count": 75,
   "metadata": {
    "execution": {
     "iopub.execute_input": "2021-07-13T20:04:00.802902Z",
     "iopub.status.busy": "2021-07-13T20:04:00.802549Z",
     "iopub.status.idle": "2021-07-13T20:04:03.294839Z",
     "shell.execute_reply": "2021-07-13T20:04:03.294027Z",
     "shell.execute_reply.started": "2021-07-13T20:04:00.802871Z"
    }
   },
   "outputs": [
    {
     "name": "stdout",
     "output_type": "stream",
     "text": [
      "Model: \"sequential_3\"\n",
      "_________________________________________________________________\n",
      "Layer (type)                 Output Shape              Param #   \n",
      "=================================================================\n",
      "inception_resnet_v2 (Functio (None, 8, 8, 1536)        54336736  \n",
      "_________________________________________________________________\n",
      "global_average_pooling2d_3 ( (None, 1536)              0         \n",
      "_________________________________________________________________\n",
      "dropout_4 (Dropout)          (None, 1536)              0         \n",
      "_________________________________________________________________\n",
      "dense_6 (Dense)              (None, 128)               196736    \n",
      "_________________________________________________________________\n",
      "dropout_5 (Dropout)          (None, 128)               0         \n",
      "_________________________________________________________________\n",
      "dense_7 (Dense)              (None, 10)                1290      \n",
      "=================================================================\n",
      "Total params: 54,534,762\n",
      "Trainable params: 54,474,218\n",
      "Non-trainable params: 60,544\n",
      "_________________________________________________________________\n"
     ]
    }
   ],
   "source": [
    "from keras.models import Sequential\n",
    "from keras.layers.pooling import GlobalAveragePooling2D\n",
    "from tensorflow.keras.layers import Dense, Dropout\n",
    "\n",
    "i_model = InceptionV3(weights= 'imagenet', include_top=False, input_shape=(299, 299, 3))\n",
    "\n",
    "model = Sequential()\n",
    "model.add(i_model)\n",
    "model.add(GlobalAveragePooling2D())\n",
    "model.add(Dropout(0.25))\n",
    "model.add(Dense(128))\n",
    "model.add(Dropout(0.25))\n",
    "model.add(Dense(10, activation = 'softmax'))\n",
    "model.summary()"
   ]
  },
  {
   "cell_type": "markdown",
   "metadata": {},
   "source": [
    "## 6. Compiling the model"
   ]
  },
  {
   "cell_type": "code",
   "execution_count": 76,
   "metadata": {
    "execution": {
     "iopub.execute_input": "2021-07-13T20:04:19.553963Z",
     "iopub.status.busy": "2021-07-13T20:04:19.553600Z",
     "iopub.status.idle": "2021-07-13T20:04:19.583597Z",
     "shell.execute_reply": "2021-07-13T20:04:19.582641Z",
     "shell.execute_reply.started": "2021-07-13T20:04:19.553930Z"
    }
   },
   "outputs": [],
   "source": [
    "model.compile(optimizer = SGD(),\n",
    "             loss=\"categorical_crossentropy\",\n",
    "             metrics=[\"accuracy\"])"
   ]
  },
  {
   "cell_type": "markdown",
   "metadata": {},
   "source": [
    "## 7. Training the model"
   ]
  },
  {
   "cell_type": "code",
   "execution_count": 77,
   "metadata": {
    "execution": {
     "iopub.execute_input": "2021-07-13T20:04:24.012134Z",
     "iopub.status.busy": "2021-07-13T20:04:24.011627Z",
     "iopub.status.idle": "2021-07-13T20:15:15.507314Z",
     "shell.execute_reply": "2021-07-13T20:15:15.506343Z",
     "shell.execute_reply.started": "2021-07-13T20:04:24.012091Z"
    }
   },
   "outputs": [
    {
     "name": "stdout",
     "output_type": "stream",
     "text": [
      "Epoch 1/10\n",
      "175/175 [==============================] - 81s 386ms/step - loss: 1.7165 - accuracy: 0.3585 - val_loss: 1.0421 - val_accuracy: 0.6545\n",
      "Epoch 2/10\n",
      "175/175 [==============================] - 64s 363ms/step - loss: 1.1824 - accuracy: 0.6009 - val_loss: 1.0067 - val_accuracy: 0.6545\n",
      "Epoch 3/10\n",
      "175/175 [==============================] - 63s 361ms/step - loss: 0.9494 - accuracy: 0.6745 - val_loss: 1.0406 - val_accuracy: 0.6750\n",
      "Epoch 4/10\n",
      "175/175 [==============================] - 63s 357ms/step - loss: 0.9053 - accuracy: 0.7016 - val_loss: 0.9796 - val_accuracy: 0.6864\n",
      "Epoch 5/10\n",
      "175/175 [==============================] - 64s 363ms/step - loss: 0.8847 - accuracy: 0.7014 - val_loss: 1.0476 - val_accuracy: 0.6500\n",
      "Epoch 6/10\n",
      "175/175 [==============================] - 63s 361ms/step - loss: 0.8182 - accuracy: 0.7309 - val_loss: 1.6893 - val_accuracy: 0.7045\n",
      "Epoch 7/10\n",
      "175/175 [==============================] - 63s 360ms/step - loss: 0.7846 - accuracy: 0.7229 - val_loss: 0.8071 - val_accuracy: 0.7341\n",
      "Epoch 8/10\n",
      "175/175 [==============================] - 63s 359ms/step - loss: 0.7470 - accuracy: 0.7504 - val_loss: 1.1938 - val_accuracy: 0.6955\n",
      "Epoch 9/10\n",
      "175/175 [==============================] - 63s 360ms/step - loss: 0.7946 - accuracy: 0.7271 - val_loss: 0.7614 - val_accuracy: 0.7182\n",
      "Epoch 10/10\n",
      "175/175 [==============================] - 63s 362ms/step - loss: 0.7113 - accuracy: 0.7489 - val_loss: 0.7437 - val_accuracy: 0.7636\n"
     ]
    }
   ],
   "source": [
    "history = model.fit(x_train, validation_data = x_val,steps_per_epoch = 175,validation_steps = 50,\n",
    "                epochs = 10, verbose = 1)"
   ]
  },
  {
   "cell_type": "markdown",
   "metadata": {},
   "source": [
    "## 8. Ploting the accuracy and loss"
   ]
  },
  {
   "cell_type": "code",
   "execution_count": null,
   "metadata": {
    "execution": {
     "iopub.execute_input": "2021-07-13T19:50:05.509709Z",
     "iopub.status.busy": "2021-07-13T19:50:05.509369Z",
     "iopub.status.idle": "2021-07-13T19:50:05.788423Z",
     "shell.execute_reply": "2021-07-13T19:50:05.787696Z",
     "shell.execute_reply.started": "2021-07-13T19:50:05.50966Z"
    }
   },
   "outputs": [],
   "source": [
    "plt.plot(history.history['accuracy'])\n",
    "plt.plot(history.history['val_accuracy'])\n",
    "plt.title('model accuracy')\n",
    "plt.ylabel('accuracy')\n",
    "plt.xlabel('epoch')\n",
    "plt.legend(['train', 'validation'], loc='upper left')\n",
    "plt.show()\n",
    "\n",
    "plt.plot(history.history['loss'])\n",
    "plt.plot(history.history['val_loss'])\n",
    "plt.title('model loss')\n",
    "plt.ylabel('loss')\n",
    "plt.xlabel('epoch')\n",
    "plt.legend(['train', 'validation'], loc='upper left')\n",
    "plt.show()"
   ]
  },
  {
   "cell_type": "markdown",
   "metadata": {},
   "source": [
    "## 9. Testing the model"
   ]
  },
  {
   "cell_type": "code",
   "execution_count": null,
   "metadata": {
    "execution": {
     "iopub.execute_input": "2021-07-13T19:50:55.975483Z",
     "iopub.status.busy": "2021-07-13T19:50:55.975161Z",
     "iopub.status.idle": "2021-07-13T19:51:53.201041Z",
     "shell.execute_reply": "2021-07-13T19:51:53.200074Z",
     "shell.execute_reply.started": "2021-07-13T19:50:55.975455Z"
    }
   },
   "outputs": [],
   "source": [
    "predictions = model.predict(x_test)\n",
    "predictions = np.argmax(predictions, axis=1)"
   ]
  },
  {
   "cell_type": "code",
   "execution_count": null,
   "metadata": {
    "execution": {
     "iopub.execute_input": "2021-07-13T19:51:53.202876Z",
     "iopub.status.busy": "2021-07-13T19:51:53.202516Z",
     "iopub.status.idle": "2021-07-13T19:51:53.211997Z",
     "shell.execute_reply": "2021-07-13T19:51:53.211195Z",
     "shell.execute_reply.started": "2021-07-13T19:51:53.202838Z"
    }
   },
   "outputs": [],
   "source": [
    "labels = x_train.class_indices\n",
    "labels"
   ]
  },
  {
   "cell_type": "code",
   "execution_count": null,
   "metadata": {
    "execution": {
     "iopub.execute_input": "2021-07-13T19:51:53.214824Z",
     "iopub.status.busy": "2021-07-13T19:51:53.214567Z",
     "iopub.status.idle": "2021-07-13T19:51:53.227522Z",
     "shell.execute_reply": "2021-07-13T19:51:53.22681Z",
     "shell.execute_reply.started": "2021-07-13T19:51:53.2148Z"
    }
   },
   "outputs": [],
   "source": [
    "test[\"Labels\"].replace({\"Bombay\": 0,'British Shorthair': 1,\n",
    " 'Burmese': 2,\n",
    " 'Calico': 3,\n",
    " 'Dilute Calico': 4,\n",
    " 'Himalayan': 5,\n",
    " 'Munchkin': 6,\n",
    " 'Ragdoll': 7,\n",
    " 'Russian Blue': 8,\n",
    " 'Siberian': 9}, inplace = True)\n"
   ]
  },
  {
   "cell_type": "markdown",
   "metadata": {},
   "source": [
    "## 10. Evaluating the test data"
   ]
  },
  {
   "cell_type": "markdown",
   "metadata": {},
   "source": [
    "## Test Accuracy"
   ]
  },
  {
   "cell_type": "code",
   "execution_count": 78,
   "metadata": {
    "execution": {
     "iopub.execute_input": "2021-07-13T20:15:15.509404Z",
     "iopub.status.busy": "2021-07-13T20:15:15.509031Z",
     "iopub.status.idle": "2021-07-13T20:16:21.415197Z",
     "shell.execute_reply": "2021-07-13T20:16:21.414357Z",
     "shell.execute_reply.started": "2021-07-13T20:15:15.509365Z"
    }
   },
   "outputs": [
    {
     "name": "stdout",
     "output_type": "stream",
     "text": [
      "280/280 [==============================] - 66s 234ms/step - loss: 0.7995 - accuracy: 0.7332\n",
      "Test accuracy is :  73.31902980804443 %\n"
     ]
    }
   ],
   "source": [
    "test_accuracy = model.evaluate(x_test)[1] * 100\n",
    "print('Test accuracy is : ',test_accuracy, '%' )"
   ]
  },
  {
   "cell_type": "markdown",
   "metadata": {},
   "source": [
    "## Confusion Matrix"
   ]
  },
  {
   "cell_type": "code",
   "execution_count": null,
   "metadata": {
    "execution": {
     "iopub.execute_input": "2021-07-13T19:51:53.229549Z",
     "iopub.status.busy": "2021-07-13T19:51:53.22918Z",
     "iopub.status.idle": "2021-07-13T19:51:53.243308Z",
     "shell.execute_reply": "2021-07-13T19:51:53.242583Z",
     "shell.execute_reply.started": "2021-07-13T19:51:53.229513Z"
    }
   },
   "outputs": [],
   "source": [
    "confusion_matrix(test.Labels , predictions)"
   ]
  },
  {
   "cell_type": "markdown",
   "metadata": {},
   "source": [
    "## F1 Score"
   ]
  },
  {
   "cell_type": "code",
   "execution_count": null,
   "metadata": {
    "execution": {
     "iopub.execute_input": "2021-07-13T19:51:53.244844Z",
     "iopub.status.busy": "2021-07-13T19:51:53.24449Z",
     "iopub.status.idle": "2021-07-13T19:51:53.25453Z",
     "shell.execute_reply": "2021-07-13T19:51:53.253445Z",
     "shell.execute_reply.started": "2021-07-13T19:51:53.244808Z"
    }
   },
   "outputs": [],
   "source": [
    "from sklearn.metrics import accuracy_score, f1_score\n",
    "print('F1 score is',f1_score(test.Labels, predictions, average = 'weighted') *100, \"%\")\n"
   ]
  },
  {
   "cell_type": "markdown",
   "metadata": {},
   "source": [
    "## ROC - AUC Score"
   ]
  },
  {
   "cell_type": "code",
   "execution_count": 79,
   "metadata": {
    "execution": {
     "iopub.execute_input": "2021-07-13T20:16:28.831349Z",
     "iopub.status.busy": "2021-07-13T20:16:28.830975Z",
     "iopub.status.idle": "2021-07-13T20:17:31.278734Z",
     "shell.execute_reply": "2021-07-13T20:17:31.277909Z",
     "shell.execute_reply.started": "2021-07-13T20:16:28.831316Z"
    }
   },
   "outputs": [
    {
     "name": "stderr",
     "output_type": "stream",
     "text": [
      "/opt/conda/lib/python3.7/site-packages/tensorflow/python/keras/engine/sequential.py:425: UserWarning: `model.predict_proba()` is deprecated and will be removed after 2021-01-01. Please use `model.predict()` instead.\n",
      "  warnings.warn('`model.predict_proba()` is deprecated and '\n"
     ]
    },
    {
     "data": {
      "text/plain": [
       "array([[2.3692778e-04, 1.3087247e-03, 5.5232231e-04, ..., 1.1765634e-02,\n",
       "        5.7315640e-04, 9.6600963e-04],\n",
       "       [3.1378046e-03, 1.9602696e-03, 3.2127231e-02, ..., 7.0342869e-01,\n",
       "        1.7122520e-03, 7.6020123e-03],\n",
       "       [9.6856445e-01, 4.2303880e-03, 2.0633357e-02, ..., 8.3210971e-04,\n",
       "        3.9650099e-03, 1.9663556e-04],\n",
       "       ...,\n",
       "       [9.0001076e-01, 2.6778052e-02, 4.5984734e-02, ..., 2.7011151e-03,\n",
       "        1.4892575e-02, 1.2706846e-03],\n",
       "       [9.4108889e-03, 1.4043640e-01, 3.1928830e-03, ..., 5.7717771e-03,\n",
       "        3.2894532e-03, 9.9313934e-04],\n",
       "       [1.5032940e-04, 4.9978035e-04, 2.3133036e-04, ..., 7.0100343e-03,\n",
       "        1.5852388e-03, 4.9489894e-04]], dtype=float32)"
      ]
     },
     "execution_count": 79,
     "metadata": {},
     "output_type": "execute_result"
    }
   ],
   "source": [
    "predicted_probab =model.predict_proba(x_test)\n",
    "predicted_probab"
   ]
  },
  {
   "cell_type": "code",
   "execution_count": 80,
   "metadata": {
    "execution": {
     "iopub.execute_input": "2021-07-13T20:17:31.281922Z",
     "iopub.status.busy": "2021-07-13T20:17:31.281630Z",
     "iopub.status.idle": "2021-07-13T20:17:31.309751Z",
     "shell.execute_reply": "2021-07-13T20:17:31.308779Z",
     "shell.execute_reply.started": "2021-07-13T20:17:31.281894Z"
    }
   },
   "outputs": [
    {
     "name": "stdout",
     "output_type": "stream",
     "text": [
      "ROC- AUC score is 93.02359676562861\n"
     ]
    }
   ],
   "source": [
    "print(\"ROC- AUC score is\", roc_auc_score( test.Labels, predicted_probab, multi_class='ovr')*100)"
   ]
  }
 ],
 "metadata": {
  "kernelspec": {
   "display_name": "Python 3",
   "language": "python",
   "name": "python3"
  },
  "language_info": {
   "codemirror_mode": {
    "name": "ipython",
    "version": 3
   },
   "file_extension": ".py",
   "mimetype": "text/x-python",
   "name": "python",
   "nbconvert_exporter": "python",
   "pygments_lexer": "ipython3",
   "version": "3.7.7"
  }
 },
 "nbformat": 4,
 "nbformat_minor": 4
}
